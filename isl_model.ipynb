{
  "nbformat": 4,
  "nbformat_minor": 0,
  "metadata": {
    "colab": {
      "provenance": [],
      "authorship_tag": "ABX9TyNbN0vwO1vKb982qNcuLHMj",
      "include_colab_link": true
    },
    "kernelspec": {
      "name": "python3",
      "display_name": "Python 3"
    },
    "language_info": {
      "name": "python"
    }
  },
  "cells": [
    {
      "cell_type": "markdown",
      "metadata": {
        "id": "view-in-github",
        "colab_type": "text"
      },
      "source": [
        "<a href=\"https://colab.research.google.com/github/Sarthak0205/Corporate-Saathi/blob/main/isl_model.ipynb\" target=\"_parent\"><img src=\"https://colab.research.google.com/assets/colab-badge.svg\" alt=\"Open In Colab\"/></a>"
      ]
    },
    {
      "cell_type": "code",
      "execution_count": 16,
      "metadata": {
        "colab": {
          "base_uri": "https://localhost:8080/",
          "height": 1000
        },
        "id": "tOcR9g72qdHM",
        "outputId": "5733aa65-bdc8-443b-8177-221c560f5162"
      },
      "outputs": [
        {
          "output_type": "stream",
          "name": "stdout",
          "text": [
            "Drive already mounted at /content/drive; to attempt to forcibly remount, call drive.mount(\"/content/drive\", force_remount=True).\n",
            "['1 hello you how .MOV', '3 family big .MOV', '7 marraige today .MOV', '5 boy short .MOV', '6 girl hungry .MOV', '9 uncle friuts get .MOV', '10 granfather sick .MOV', '14 baby cute .MOV', '15 both just seperate .MOV', '16 they apply divorce .MOV', '17 we place see go which .MOV', '18 i home reach very late .MOV', '19 this work my not .MOV', '20 this day i inform you .MOV', '21 we night go out .MOV', '22 we this week holiday .MOV', '23 christmas month celebration .MOV', '24 this year  feb 29 date leap not .MOV', '25 raju first come tanu after.MOV', '28 you work finish .MOV', '30 hot very here .MOV', '26 first him eat after i eat .MOV', '31 food taste good .MOV', '29 furnac machine near teamrature hot .MOV', '32 it cold coffee .MOV', '35 milk health good .MOV', '34 pizza food healthy not .MOV', '36 children milk drink like .MOV', '38 curd sweet .MOV', '39 egg white .MOV', '41 dress color green .MOV', '40 my bag color blue .MOV', '45 she money not .MOV', '44 i black coffe like .MOV', '46 apple in vitamin-mineral have .MOV', '48 he drink more .MOV', '47 cheese topings good .MOV', '49 she live life like queen .MOV', '37 coffee hot .MOV', '43 eyescolor black .MOV', '53 water cold .MOV', '65 coins many too .MOV', '58 pants  old .MOV', '57 shirt white .MOV', '59 socks torn .MOV', '60 shoes dirty .MOV', '61 Health important .MOV', '63 i her give ten rupees have  .MOV', '62 your hands wash .MOV', '64 Money american use dollars  .MOV', '75 sleep well .MOV', '79 your Teeth clean 2.MOV', '76 his hair  comb will .MOV', '80 floor clean.MOV', '81 this comb  wooden.MOV', '77 room in sun  light 2.MOV', '2 Home welcome.MOV', '11 grand mother market go .MOV', '13 before grand mother market go finish .MOV', '33 pune cold .MOV', '50 i fruit fork eat .MOV', '4 mother food cook  - Copy.MOV', '54 cookies stale .MOV', '56 clothes old .MOV', '55 cookies fresh .MOV', '67  i paisa five have  .MOV', '68 there zoo in animals many  .MOV', '69 Cat  apet animal .MOV', '70 dog  pet animal .MOV', '73  my teeth brush .MOV', '72 i  bathroom go  .MOV', '71 birds sky fly  .MOV', '74 her  teeth  broke .MOV', '66 ticket cost what .MOV', '51 Cup color white light .MOV', '52 cereals protein have  .MOV']\n",
            "Found 76 videos.\n",
            "✅ Moved 1 hello you how .MOV -> /content/drive/MyDrive/dataset_sorted/gesture_1\n",
            "✅ Moved 10 granfather sick .MOV -> /content/drive/MyDrive/dataset_sorted/gesture_2\n",
            "✅ Moved 11 grand mother market go .MOV -> /content/drive/MyDrive/dataset_sorted/gesture_3\n",
            "✅ Moved 13 before grand mother market go finish .MOV -> /content/drive/MyDrive/dataset_sorted/gesture_4\n",
            "✅ Moved 14 baby cute .MOV -> /content/drive/MyDrive/dataset_sorted/gesture_5\n",
            "✅ Moved 15 both just seperate .MOV -> /content/drive/MyDrive/dataset_sorted/gesture_6\n",
            "✅ Moved 16 they apply divorce .MOV -> /content/drive/MyDrive/dataset_sorted/gesture_7\n",
            "✅ Moved 17 we place see go which .MOV -> /content/drive/MyDrive/dataset_sorted/gesture_8\n",
            "✅ Moved 18 i home reach very late .MOV -> /content/drive/MyDrive/dataset_sorted/gesture_9\n",
            "✅ Moved 19 this work my not .MOV -> /content/drive/MyDrive/dataset_sorted/gesture_10\n",
            "✅ Moved 2 Home welcome.MOV -> /content/drive/MyDrive/dataset_sorted/gesture_11\n",
            "✅ Moved 20 this day i inform you .MOV -> /content/drive/MyDrive/dataset_sorted/gesture_12\n",
            "✅ Moved 21 we night go out .MOV -> /content/drive/MyDrive/dataset_sorted/gesture_13\n",
            "✅ Moved 22 we this week holiday .MOV -> /content/drive/MyDrive/dataset_sorted/gesture_14\n",
            "✅ Moved 23 christmas month celebration .MOV -> /content/drive/MyDrive/dataset_sorted/gesture_15\n",
            "✅ Moved 24 this year  feb 29 date leap not .MOV -> /content/drive/MyDrive/dataset_sorted/gesture_16\n",
            "✅ Moved 25 raju first come tanu after.MOV -> /content/drive/MyDrive/dataset_sorted/gesture_17\n",
            "✅ Moved 26 first him eat after i eat .MOV -> /content/drive/MyDrive/dataset_sorted/gesture_18\n",
            "✅ Moved 28 you work finish .MOV -> /content/drive/MyDrive/dataset_sorted/gesture_19\n",
            "✅ Moved 29 furnac machine near teamrature hot .MOV -> /content/drive/MyDrive/dataset_sorted/gesture_20\n",
            "✅ Moved 3 family big .MOV -> /content/drive/MyDrive/dataset_sorted/gesture_21\n",
            "✅ Moved 30 hot very here .MOV -> /content/drive/MyDrive/dataset_sorted/gesture_22\n",
            "✅ Moved 31 food taste good .MOV -> /content/drive/MyDrive/dataset_sorted/gesture_23\n",
            "✅ Moved 32 it cold coffee .MOV -> /content/drive/MyDrive/dataset_sorted/gesture_24\n",
            "✅ Moved 33 pune cold .MOV -> /content/drive/MyDrive/dataset_sorted/gesture_25\n",
            "✅ Moved 34 pizza food healthy not .MOV -> /content/drive/MyDrive/dataset_sorted/gesture_26\n",
            "✅ Moved 35 milk health good .MOV -> /content/drive/MyDrive/dataset_sorted/gesture_27\n",
            "✅ Moved 36 children milk drink like .MOV -> /content/drive/MyDrive/dataset_sorted/gesture_28\n",
            "✅ Moved 37 coffee hot .MOV -> /content/drive/MyDrive/dataset_sorted/gesture_29\n",
            "✅ Moved 38 curd sweet .MOV -> /content/drive/MyDrive/dataset_sorted/gesture_30\n",
            "✅ Moved 39 egg white .MOV -> /content/drive/MyDrive/dataset_sorted/gesture_31\n",
            "✅ Moved 4 mother food cook  - Copy.MOV -> /content/drive/MyDrive/dataset_sorted/gesture_32\n",
            "✅ Moved 40 my bag color blue .MOV -> /content/drive/MyDrive/dataset_sorted/gesture_33\n",
            "✅ Moved 41 dress color green .MOV -> /content/drive/MyDrive/dataset_sorted/gesture_34\n",
            "✅ Moved 43 eyescolor black .MOV -> /content/drive/MyDrive/dataset_sorted/gesture_35\n",
            "✅ Moved 44 i black coffe like .MOV -> /content/drive/MyDrive/dataset_sorted/gesture_36\n",
            "✅ Moved 45 she money not .MOV -> /content/drive/MyDrive/dataset_sorted/gesture_37\n",
            "✅ Moved 46 apple in vitamin-mineral have .MOV -> /content/drive/MyDrive/dataset_sorted/gesture_38\n",
            "✅ Moved 47 cheese topings good .MOV -> /content/drive/MyDrive/dataset_sorted/gesture_39\n",
            "✅ Moved 48 he drink more .MOV -> /content/drive/MyDrive/dataset_sorted/gesture_40\n",
            "✅ Moved 49 she live life like queen .MOV -> /content/drive/MyDrive/dataset_sorted/gesture_41\n",
            "✅ Moved 5 boy short .MOV -> /content/drive/MyDrive/dataset_sorted/gesture_42\n",
            "✅ Moved 50 i fruit fork eat .MOV -> /content/drive/MyDrive/dataset_sorted/gesture_43\n",
            "✅ Moved 51 Cup color white light .MOV -> /content/drive/MyDrive/dataset_sorted/gesture_44\n",
            "✅ Moved 52 cereals protein have  .MOV -> /content/drive/MyDrive/dataset_sorted/gesture_45\n",
            "✅ Moved 53 water cold .MOV -> /content/drive/MyDrive/dataset_sorted/gesture_46\n",
            "✅ Moved 54 cookies stale .MOV -> /content/drive/MyDrive/dataset_sorted/gesture_47\n",
            "✅ Moved 55 cookies fresh .MOV -> /content/drive/MyDrive/dataset_sorted/gesture_48\n",
            "✅ Moved 56 clothes old .MOV -> /content/drive/MyDrive/dataset_sorted/gesture_49\n",
            "✅ Moved 57 shirt white .MOV -> /content/drive/MyDrive/dataset_sorted/gesture_50\n",
            "✅ Moved 58 pants  old .MOV -> /content/drive/MyDrive/dataset_sorted/gesture_51\n",
            "✅ Moved 59 socks torn .MOV -> /content/drive/MyDrive/dataset_sorted/gesture_52\n",
            "✅ Moved 6 girl hungry .MOV -> /content/drive/MyDrive/dataset_sorted/gesture_53\n",
            "✅ Moved 60 shoes dirty .MOV -> /content/drive/MyDrive/dataset_sorted/gesture_54\n",
            "✅ Moved 61 Health important .MOV -> /content/drive/MyDrive/dataset_sorted/gesture_55\n",
            "✅ Moved 62 your hands wash .MOV -> /content/drive/MyDrive/dataset_sorted/gesture_56\n",
            "✅ Moved 63 i her give ten rupees have  .MOV -> /content/drive/MyDrive/dataset_sorted/gesture_57\n",
            "✅ Moved 64 Money american use dollars  .MOV -> /content/drive/MyDrive/dataset_sorted/gesture_58\n",
            "✅ Moved 65 coins many too .MOV -> /content/drive/MyDrive/dataset_sorted/gesture_59\n",
            "✅ Moved 66 ticket cost what .MOV -> /content/drive/MyDrive/dataset_sorted/gesture_60\n",
            "✅ Moved 67  i paisa five have  .MOV -> /content/drive/MyDrive/dataset_sorted/gesture_61\n",
            "✅ Moved 68 there zoo in animals many  .MOV -> /content/drive/MyDrive/dataset_sorted/gesture_62\n",
            "✅ Moved 69 Cat  apet animal .MOV -> /content/drive/MyDrive/dataset_sorted/gesture_63\n",
            "✅ Moved 7 marraige today .MOV -> /content/drive/MyDrive/dataset_sorted/gesture_64\n",
            "✅ Moved 70 dog  pet animal .MOV -> /content/drive/MyDrive/dataset_sorted/gesture_65\n",
            "✅ Moved 71 birds sky fly  .MOV -> /content/drive/MyDrive/dataset_sorted/gesture_66\n",
            "✅ Moved 72 i  bathroom go  .MOV -> /content/drive/MyDrive/dataset_sorted/gesture_67\n",
            "✅ Moved 73  my teeth brush .MOV -> /content/drive/MyDrive/dataset_sorted/gesture_68\n",
            "✅ Moved 74 her  teeth  broke .MOV -> /content/drive/MyDrive/dataset_sorted/gesture_69\n",
            "✅ Moved 75 sleep well .MOV -> /content/drive/MyDrive/dataset_sorted/gesture_70\n",
            "✅ Moved 76 his hair  comb will .MOV -> /content/drive/MyDrive/dataset_sorted/gesture_71\n",
            "✅ Moved 77 room in sun  light 2.MOV -> /content/drive/MyDrive/dataset_sorted/gesture_72\n",
            "✅ Moved 79 your Teeth clean 2.MOV -> /content/drive/MyDrive/dataset_sorted/gesture_73\n",
            "✅ Moved 80 floor clean.MOV -> /content/drive/MyDrive/dataset_sorted/gesture_74\n",
            "✅ Moved 81 this comb  wooden.MOV -> /content/drive/MyDrive/dataset_sorted/gesture_75\n",
            "✅ Moved 9 uncle friuts get .MOV -> /content/drive/MyDrive/dataset_sorted/gesture_76\n",
            "\n",
            "🎉 Dataset reorganized successfully!\n",
            "Output path: /content/drive/MyDrive/dataset_sorted\n",
            "✅ Dataset ready\n",
            "X shape: (76, 30, 64, 64, 3)\n",
            "y shape: (76, 76)\n",
            "Labels: ['gesture_1', 'gesture_10', 'gesture_11', 'gesture_12', 'gesture_13', 'gesture_14', 'gesture_15', 'gesture_16', 'gesture_17', 'gesture_18', 'gesture_19', 'gesture_2', 'gesture_20', 'gesture_21', 'gesture_22', 'gesture_23', 'gesture_24', 'gesture_25', 'gesture_26', 'gesture_27', 'gesture_28', 'gesture_29', 'gesture_3', 'gesture_30', 'gesture_31', 'gesture_32', 'gesture_33', 'gesture_34', 'gesture_35', 'gesture_36', 'gesture_37', 'gesture_38', 'gesture_39', 'gesture_4', 'gesture_40', 'gesture_41', 'gesture_42', 'gesture_43', 'gesture_44', 'gesture_45', 'gesture_46', 'gesture_47', 'gesture_48', 'gesture_49', 'gesture_5', 'gesture_50', 'gesture_51', 'gesture_52', 'gesture_53', 'gesture_54', 'gesture_55', 'gesture_56', 'gesture_57', 'gesture_58', 'gesture_59', 'gesture_6', 'gesture_60', 'gesture_61', 'gesture_62', 'gesture_63', 'gesture_64', 'gesture_65', 'gesture_66', 'gesture_67', 'gesture_68', 'gesture_69', 'gesture_7', 'gesture_70', 'gesture_71', 'gesture_72', 'gesture_73', 'gesture_74', 'gesture_75', 'gesture_76', 'gesture_8', 'gesture_9']\n"
          ]
        },
        {
          "output_type": "display_data",
          "data": {
            "text/plain": [
              "\u001b[1mModel: \"sequential_7\"\u001b[0m\n"
            ],
            "text/html": [
              "<pre style=\"white-space:pre;overflow-x:auto;line-height:normal;font-family:Menlo,'DejaVu Sans Mono',consolas,'Courier New',monospace\"><span style=\"font-weight: bold\">Model: \"sequential_7\"</span>\n",
              "</pre>\n"
            ]
          },
          "metadata": {}
        },
        {
          "output_type": "display_data",
          "data": {
            "text/plain": [
              "┏━━━━━━━━━━━━━━━━━━━━━━━━━━━━━━━━━┳━━━━━━━━━━━━━━━━━━━━━━━━┳━━━━━━━━━━━━━━━┓\n",
              "┃\u001b[1m \u001b[0m\u001b[1mLayer (type)                   \u001b[0m\u001b[1m \u001b[0m┃\u001b[1m \u001b[0m\u001b[1mOutput Shape          \u001b[0m\u001b[1m \u001b[0m┃\u001b[1m \u001b[0m\u001b[1m      Param #\u001b[0m\u001b[1m \u001b[0m┃\n",
              "┡━━━━━━━━━━━━━━━━━━━━━━━━━━━━━━━━━╇━━━━━━━━━━━━━━━━━━━━━━━━╇━━━━━━━━━━━━━━━┩\n",
              "│ time_distributed_21             │ (\u001b[38;5;45mNone\u001b[0m, \u001b[38;5;34m30\u001b[0m, \u001b[38;5;34m62\u001b[0m, \u001b[38;5;34m62\u001b[0m, \u001b[38;5;34m32\u001b[0m) │           \u001b[38;5;34m896\u001b[0m │\n",
              "│ (\u001b[38;5;33mTimeDistributed\u001b[0m)               │                        │               │\n",
              "├─────────────────────────────────┼────────────────────────┼───────────────┤\n",
              "│ time_distributed_22             │ (\u001b[38;5;45mNone\u001b[0m, \u001b[38;5;34m30\u001b[0m, \u001b[38;5;34m31\u001b[0m, \u001b[38;5;34m31\u001b[0m, \u001b[38;5;34m32\u001b[0m) │             \u001b[38;5;34m0\u001b[0m │\n",
              "│ (\u001b[38;5;33mTimeDistributed\u001b[0m)               │                        │               │\n",
              "├─────────────────────────────────┼────────────────────────┼───────────────┤\n",
              "│ time_distributed_23             │ (\u001b[38;5;45mNone\u001b[0m, \u001b[38;5;34m30\u001b[0m, \u001b[38;5;34m30752\u001b[0m)      │             \u001b[38;5;34m0\u001b[0m │\n",
              "│ (\u001b[38;5;33mTimeDistributed\u001b[0m)               │                        │               │\n",
              "├─────────────────────────────────┼────────────────────────┼───────────────┤\n",
              "│ lstm_7 (\u001b[38;5;33mLSTM\u001b[0m)                   │ (\u001b[38;5;45mNone\u001b[0m, \u001b[38;5;34m64\u001b[0m)             │     \u001b[38;5;34m7,889,152\u001b[0m │\n",
              "├─────────────────────────────────┼────────────────────────┼───────────────┤\n",
              "│ dropout_7 (\u001b[38;5;33mDropout\u001b[0m)             │ (\u001b[38;5;45mNone\u001b[0m, \u001b[38;5;34m64\u001b[0m)             │             \u001b[38;5;34m0\u001b[0m │\n",
              "├─────────────────────────────────┼────────────────────────┼───────────────┤\n",
              "│ dense_7 (\u001b[38;5;33mDense\u001b[0m)                 │ (\u001b[38;5;45mNone\u001b[0m, \u001b[38;5;34m76\u001b[0m)             │         \u001b[38;5;34m4,940\u001b[0m │\n",
              "└─────────────────────────────────┴────────────────────────┴───────────────┘\n"
            ],
            "text/html": [
              "<pre style=\"white-space:pre;overflow-x:auto;line-height:normal;font-family:Menlo,'DejaVu Sans Mono',consolas,'Courier New',monospace\">┏━━━━━━━━━━━━━━━━━━━━━━━━━━━━━━━━━┳━━━━━━━━━━━━━━━━━━━━━━━━┳━━━━━━━━━━━━━━━┓\n",
              "┃<span style=\"font-weight: bold\"> Layer (type)                    </span>┃<span style=\"font-weight: bold\"> Output Shape           </span>┃<span style=\"font-weight: bold\">       Param # </span>┃\n",
              "┡━━━━━━━━━━━━━━━━━━━━━━━━━━━━━━━━━╇━━━━━━━━━━━━━━━━━━━━━━━━╇━━━━━━━━━━━━━━━┩\n",
              "│ time_distributed_21             │ (<span style=\"color: #00d7ff; text-decoration-color: #00d7ff\">None</span>, <span style=\"color: #00af00; text-decoration-color: #00af00\">30</span>, <span style=\"color: #00af00; text-decoration-color: #00af00\">62</span>, <span style=\"color: #00af00; text-decoration-color: #00af00\">62</span>, <span style=\"color: #00af00; text-decoration-color: #00af00\">32</span>) │           <span style=\"color: #00af00; text-decoration-color: #00af00\">896</span> │\n",
              "│ (<span style=\"color: #0087ff; text-decoration-color: #0087ff\">TimeDistributed</span>)               │                        │               │\n",
              "├─────────────────────────────────┼────────────────────────┼───────────────┤\n",
              "│ time_distributed_22             │ (<span style=\"color: #00d7ff; text-decoration-color: #00d7ff\">None</span>, <span style=\"color: #00af00; text-decoration-color: #00af00\">30</span>, <span style=\"color: #00af00; text-decoration-color: #00af00\">31</span>, <span style=\"color: #00af00; text-decoration-color: #00af00\">31</span>, <span style=\"color: #00af00; text-decoration-color: #00af00\">32</span>) │             <span style=\"color: #00af00; text-decoration-color: #00af00\">0</span> │\n",
              "│ (<span style=\"color: #0087ff; text-decoration-color: #0087ff\">TimeDistributed</span>)               │                        │               │\n",
              "├─────────────────────────────────┼────────────────────────┼───────────────┤\n",
              "│ time_distributed_23             │ (<span style=\"color: #00d7ff; text-decoration-color: #00d7ff\">None</span>, <span style=\"color: #00af00; text-decoration-color: #00af00\">30</span>, <span style=\"color: #00af00; text-decoration-color: #00af00\">30752</span>)      │             <span style=\"color: #00af00; text-decoration-color: #00af00\">0</span> │\n",
              "│ (<span style=\"color: #0087ff; text-decoration-color: #0087ff\">TimeDistributed</span>)               │                        │               │\n",
              "├─────────────────────────────────┼────────────────────────┼───────────────┤\n",
              "│ lstm_7 (<span style=\"color: #0087ff; text-decoration-color: #0087ff\">LSTM</span>)                   │ (<span style=\"color: #00d7ff; text-decoration-color: #00d7ff\">None</span>, <span style=\"color: #00af00; text-decoration-color: #00af00\">64</span>)             │     <span style=\"color: #00af00; text-decoration-color: #00af00\">7,889,152</span> │\n",
              "├─────────────────────────────────┼────────────────────────┼───────────────┤\n",
              "│ dropout_7 (<span style=\"color: #0087ff; text-decoration-color: #0087ff\">Dropout</span>)             │ (<span style=\"color: #00d7ff; text-decoration-color: #00d7ff\">None</span>, <span style=\"color: #00af00; text-decoration-color: #00af00\">64</span>)             │             <span style=\"color: #00af00; text-decoration-color: #00af00\">0</span> │\n",
              "├─────────────────────────────────┼────────────────────────┼───────────────┤\n",
              "│ dense_7 (<span style=\"color: #0087ff; text-decoration-color: #0087ff\">Dense</span>)                 │ (<span style=\"color: #00d7ff; text-decoration-color: #00d7ff\">None</span>, <span style=\"color: #00af00; text-decoration-color: #00af00\">76</span>)             │         <span style=\"color: #00af00; text-decoration-color: #00af00\">4,940</span> │\n",
              "└─────────────────────────────────┴────────────────────────┴───────────────┘\n",
              "</pre>\n"
            ]
          },
          "metadata": {}
        },
        {
          "output_type": "display_data",
          "data": {
            "text/plain": [
              "\u001b[1m Total params: \u001b[0m\u001b[38;5;34m7,894,988\u001b[0m (30.12 MB)\n"
            ],
            "text/html": [
              "<pre style=\"white-space:pre;overflow-x:auto;line-height:normal;font-family:Menlo,'DejaVu Sans Mono',consolas,'Courier New',monospace\"><span style=\"font-weight: bold\"> Total params: </span><span style=\"color: #00af00; text-decoration-color: #00af00\">7,894,988</span> (30.12 MB)\n",
              "</pre>\n"
            ]
          },
          "metadata": {}
        },
        {
          "output_type": "display_data",
          "data": {
            "text/plain": [
              "\u001b[1m Trainable params: \u001b[0m\u001b[38;5;34m7,894,988\u001b[0m (30.12 MB)\n"
            ],
            "text/html": [
              "<pre style=\"white-space:pre;overflow-x:auto;line-height:normal;font-family:Menlo,'DejaVu Sans Mono',consolas,'Courier New',monospace\"><span style=\"font-weight: bold\"> Trainable params: </span><span style=\"color: #00af00; text-decoration-color: #00af00\">7,894,988</span> (30.12 MB)\n",
              "</pre>\n"
            ]
          },
          "metadata": {}
        },
        {
          "output_type": "display_data",
          "data": {
            "text/plain": [
              "\u001b[1m Non-trainable params: \u001b[0m\u001b[38;5;34m0\u001b[0m (0.00 B)\n"
            ],
            "text/html": [
              "<pre style=\"white-space:pre;overflow-x:auto;line-height:normal;font-family:Menlo,'DejaVu Sans Mono',consolas,'Courier New',monospace\"><span style=\"font-weight: bold\"> Non-trainable params: </span><span style=\"color: #00af00; text-decoration-color: #00af00\">0</span> (0.00 B)\n",
              "</pre>\n"
            ]
          },
          "metadata": {}
        },
        {
          "output_type": "stream",
          "name": "stdout",
          "text": [
            "Epoch 1/10\n",
            "\u001b[1m15/15\u001b[0m \u001b[32m━━━━━━━━━━━━━━━━━━━━\u001b[0m\u001b[37m\u001b[0m \u001b[1m66s\u001b[0m 4s/step - accuracy: 0.0044 - loss: 4.7387 - val_accuracy: 0.0000e+00 - val_loss: 4.5279\n",
            "Epoch 2/10\n",
            "\u001b[1m15/15\u001b[0m \u001b[32m━━━━━━━━━━━━━━━━━━━━\u001b[0m\u001b[37m\u001b[0m \u001b[1m77s\u001b[0m 4s/step - accuracy: 0.0000e+00 - loss: 4.6262 - val_accuracy: 0.0000e+00 - val_loss: 4.7049\n",
            "Epoch 3/10\n",
            "\u001b[1m15/15\u001b[0m \u001b[32m━━━━━━━━━━━━━━━━━━━━\u001b[0m\u001b[37m\u001b[0m \u001b[1m83s\u001b[0m 4s/step - accuracy: 0.0104 - loss: 4.2946 - val_accuracy: 0.0000e+00 - val_loss: 4.8130\n",
            "Epoch 4/10\n",
            "\u001b[1m15/15\u001b[0m \u001b[32m━━━━━━━━━━━━━━━━━━━━\u001b[0m\u001b[37m\u001b[0m \u001b[1m59s\u001b[0m 4s/step - accuracy: 0.0000e+00 - loss: 4.4779 - val_accuracy: 0.0000e+00 - val_loss: 4.9085\n",
            "Epoch 5/10\n",
            "\u001b[1m15/15\u001b[0m \u001b[32m━━━━━━━━━━━━━━━━━━━━\u001b[0m\u001b[37m\u001b[0m \u001b[1m56s\u001b[0m 4s/step - accuracy: 0.0044 - loss: 4.2797 - val_accuracy: 0.0000e+00 - val_loss: 4.9709\n",
            "Epoch 6/10\n",
            "\u001b[1m15/15\u001b[0m \u001b[32m━━━━━━━━━━━━━━━━━━━━\u001b[0m\u001b[37m\u001b[0m \u001b[1m57s\u001b[0m 4s/step - accuracy: 0.0000e+00 - loss: 4.2993 - val_accuracy: 0.0000e+00 - val_loss: 4.8756\n",
            "Epoch 7/10\n",
            "\u001b[1m15/15\u001b[0m \u001b[32m━━━━━━━━━━━━━━━━━━━━\u001b[0m\u001b[37m\u001b[0m \u001b[1m81s\u001b[0m 4s/step - accuracy: 0.0057 - loss: 4.2303 - val_accuracy: 0.0000e+00 - val_loss: 4.8329\n",
            "Epoch 8/10\n",
            "\u001b[1m15/15\u001b[0m \u001b[32m━━━━━━━━━━━━━━━━━━━━\u001b[0m\u001b[37m\u001b[0m \u001b[1m90s\u001b[0m 4s/step - accuracy: 0.0000e+00 - loss: 4.2694 - val_accuracy: 0.0000e+00 - val_loss: 5.0649\n",
            "Epoch 9/10\n",
            "\u001b[1m15/15\u001b[0m \u001b[32m━━━━━━━━━━━━━━━━━━━━\u001b[0m\u001b[37m\u001b[0m \u001b[1m57s\u001b[0m 4s/step - accuracy: 0.1119 - loss: 4.0440 - val_accuracy: 0.0000e+00 - val_loss: 5.1653\n",
            "Epoch 10/10\n",
            "\u001b[1m15/15\u001b[0m \u001b[32m━━━━━━━━━━━━━━━━━━━━\u001b[0m\u001b[37m\u001b[0m \u001b[1m80s\u001b[0m 4s/step - accuracy: 0.0124 - loss: 4.2149 - val_accuracy: 0.0000e+00 - val_loss: 5.1709\n"
          ]
        },
        {
          "output_type": "stream",
          "name": "stderr",
          "text": [
            "WARNING:absl:You are saving your model as an HDF5 file via `model.save()` or `keras.saving.save_model(model)`. This file format is considered legacy. We recommend using instead the native Keras format, e.g. `model.save('my_model.keras')` or `keras.saving.save_model(model, 'my_model.keras')`. \n"
          ]
        },
        {
          "output_type": "stream",
          "name": "stdout",
          "text": [
            "✅ Model saved as isl_model.h5\n",
            "✅ Model also saved as isl_model.keras\n"
          ]
        },
        {
          "output_type": "error",
          "ename": "FileNotFoundError",
          "evalue": "[Errno 2] Unable to synchronously open file (unable to open file: name = 'isl_model.h5', errno = 2, error message = 'No such file or directory', flags = 0, o_flags = 0)",
          "traceback": [
            "\u001b[0;31m---------------------------------------------------------------------------\u001b[0m",
            "\u001b[0;31mFileNotFoundError\u001b[0m                         Traceback (most recent call last)",
            "\u001b[0;32m/tmp/ipython-input-510126185.py\u001b[0m in \u001b[0;36m<cell line: 0>\u001b[0;34m()\u001b[0m\n\u001b[1;32m    151\u001b[0m \u001b[0;31m# -------------------------------\u001b[0m\u001b[0;34m\u001b[0m\u001b[0;34m\u001b[0m\u001b[0m\n\u001b[1;32m    152\u001b[0m \u001b[0;31m# Load model back (for safety)\u001b[0m\u001b[0;34m\u001b[0m\u001b[0;34m\u001b[0m\u001b[0m\n\u001b[0;32m--> 153\u001b[0;31m \u001b[0mmodel\u001b[0m \u001b[0;34m=\u001b[0m \u001b[0mload_model\u001b[0m\u001b[0;34m(\u001b[0m\u001b[0;34m\"isl_model.h5\"\u001b[0m\u001b[0;34m)\u001b[0m\u001b[0;34m\u001b[0m\u001b[0;34m\u001b[0m\u001b[0m\n\u001b[0m\u001b[1;32m    154\u001b[0m \u001b[0;34m\u001b[0m\u001b[0m\n\u001b[1;32m    155\u001b[0m \u001b[0;31m# 👇 change this path to any test video from your dataset or new video\u001b[0m\u001b[0;34m\u001b[0m\u001b[0;34m\u001b[0m\u001b[0m\n",
            "\u001b[0;32m/usr/local/lib/python3.12/dist-packages/keras/src/saving/saving_api.py\u001b[0m in \u001b[0;36mload_model\u001b[0;34m(filepath, custom_objects, compile, safe_mode)\u001b[0m\n\u001b[1;32m    194\u001b[0m         )\n\u001b[1;32m    195\u001b[0m     \u001b[0;32mif\u001b[0m \u001b[0mstr\u001b[0m\u001b[0;34m(\u001b[0m\u001b[0mfilepath\u001b[0m\u001b[0;34m)\u001b[0m\u001b[0;34m.\u001b[0m\u001b[0mendswith\u001b[0m\u001b[0;34m(\u001b[0m\u001b[0;34m(\u001b[0m\u001b[0;34m\".h5\"\u001b[0m\u001b[0;34m,\u001b[0m \u001b[0;34m\".hdf5\"\u001b[0m\u001b[0;34m)\u001b[0m\u001b[0;34m)\u001b[0m\u001b[0;34m:\u001b[0m\u001b[0;34m\u001b[0m\u001b[0;34m\u001b[0m\u001b[0m\n\u001b[0;32m--> 196\u001b[0;31m         return legacy_h5_format.load_model_from_hdf5(\n\u001b[0m\u001b[1;32m    197\u001b[0m             \u001b[0mfilepath\u001b[0m\u001b[0;34m,\u001b[0m \u001b[0mcustom_objects\u001b[0m\u001b[0;34m=\u001b[0m\u001b[0mcustom_objects\u001b[0m\u001b[0;34m,\u001b[0m \u001b[0mcompile\u001b[0m\u001b[0;34m=\u001b[0m\u001b[0mcompile\u001b[0m\u001b[0;34m\u001b[0m\u001b[0;34m\u001b[0m\u001b[0m\n\u001b[1;32m    198\u001b[0m         )\n",
            "\u001b[0;32m/usr/local/lib/python3.12/dist-packages/keras/src/legacy/saving/legacy_h5_format.py\u001b[0m in \u001b[0;36mload_model_from_hdf5\u001b[0;34m(filepath, custom_objects, compile)\u001b[0m\n\u001b[1;32m    114\u001b[0m     \u001b[0mopened_new_file\u001b[0m \u001b[0;34m=\u001b[0m \u001b[0;32mnot\u001b[0m \u001b[0misinstance\u001b[0m\u001b[0;34m(\u001b[0m\u001b[0mfilepath\u001b[0m\u001b[0;34m,\u001b[0m \u001b[0mh5py\u001b[0m\u001b[0;34m.\u001b[0m\u001b[0mFile\u001b[0m\u001b[0;34m)\u001b[0m\u001b[0;34m\u001b[0m\u001b[0;34m\u001b[0m\u001b[0m\n\u001b[1;32m    115\u001b[0m     \u001b[0;32mif\u001b[0m \u001b[0mopened_new_file\u001b[0m\u001b[0;34m:\u001b[0m\u001b[0;34m\u001b[0m\u001b[0;34m\u001b[0m\u001b[0m\n\u001b[0;32m--> 116\u001b[0;31m         \u001b[0mf\u001b[0m \u001b[0;34m=\u001b[0m \u001b[0mh5py\u001b[0m\u001b[0;34m.\u001b[0m\u001b[0mFile\u001b[0m\u001b[0;34m(\u001b[0m\u001b[0mfilepath\u001b[0m\u001b[0;34m,\u001b[0m \u001b[0mmode\u001b[0m\u001b[0;34m=\u001b[0m\u001b[0;34m\"r\"\u001b[0m\u001b[0;34m)\u001b[0m\u001b[0;34m\u001b[0m\u001b[0;34m\u001b[0m\u001b[0m\n\u001b[0m\u001b[1;32m    117\u001b[0m     \u001b[0;32melse\u001b[0m\u001b[0;34m:\u001b[0m\u001b[0;34m\u001b[0m\u001b[0;34m\u001b[0m\u001b[0m\n\u001b[1;32m    118\u001b[0m         \u001b[0mf\u001b[0m \u001b[0;34m=\u001b[0m \u001b[0mfilepath\u001b[0m\u001b[0;34m\u001b[0m\u001b[0;34m\u001b[0m\u001b[0m\n",
            "\u001b[0;32m/usr/local/lib/python3.12/dist-packages/h5py/_hl/files.py\u001b[0m in \u001b[0;36m__init__\u001b[0;34m(self, name, mode, driver, libver, userblock_size, swmr, rdcc_nslots, rdcc_nbytes, rdcc_w0, track_order, fs_strategy, fs_persist, fs_threshold, fs_page_size, page_buf_size, min_meta_keep, min_raw_keep, locking, alignment_threshold, alignment_interval, meta_block_size, **kwds)\u001b[0m\n\u001b[1;32m    562\u001b[0m                                  \u001b[0mfs_persist\u001b[0m\u001b[0;34m=\u001b[0m\u001b[0mfs_persist\u001b[0m\u001b[0;34m,\u001b[0m \u001b[0mfs_threshold\u001b[0m\u001b[0;34m=\u001b[0m\u001b[0mfs_threshold\u001b[0m\u001b[0;34m,\u001b[0m\u001b[0;34m\u001b[0m\u001b[0;34m\u001b[0m\u001b[0m\n\u001b[1;32m    563\u001b[0m                                  fs_page_size=fs_page_size)\n\u001b[0;32m--> 564\u001b[0;31m                 \u001b[0mfid\u001b[0m \u001b[0;34m=\u001b[0m \u001b[0mmake_fid\u001b[0m\u001b[0;34m(\u001b[0m\u001b[0mname\u001b[0m\u001b[0;34m,\u001b[0m \u001b[0mmode\u001b[0m\u001b[0;34m,\u001b[0m \u001b[0muserblock_size\u001b[0m\u001b[0;34m,\u001b[0m \u001b[0mfapl\u001b[0m\u001b[0;34m,\u001b[0m \u001b[0mfcpl\u001b[0m\u001b[0;34m,\u001b[0m \u001b[0mswmr\u001b[0m\u001b[0;34m=\u001b[0m\u001b[0mswmr\u001b[0m\u001b[0;34m)\u001b[0m\u001b[0;34m\u001b[0m\u001b[0;34m\u001b[0m\u001b[0m\n\u001b[0m\u001b[1;32m    565\u001b[0m \u001b[0;34m\u001b[0m\u001b[0m\n\u001b[1;32m    566\u001b[0m             \u001b[0;32mif\u001b[0m \u001b[0misinstance\u001b[0m\u001b[0;34m(\u001b[0m\u001b[0mlibver\u001b[0m\u001b[0;34m,\u001b[0m \u001b[0mtuple\u001b[0m\u001b[0;34m)\u001b[0m\u001b[0;34m:\u001b[0m\u001b[0;34m\u001b[0m\u001b[0;34m\u001b[0m\u001b[0m\n",
            "\u001b[0;32m/usr/local/lib/python3.12/dist-packages/h5py/_hl/files.py\u001b[0m in \u001b[0;36mmake_fid\u001b[0;34m(name, mode, userblock_size, fapl, fcpl, swmr)\u001b[0m\n\u001b[1;32m    236\u001b[0m         \u001b[0;32mif\u001b[0m \u001b[0mswmr\u001b[0m \u001b[0;32mand\u001b[0m \u001b[0mswmr_support\u001b[0m\u001b[0;34m:\u001b[0m\u001b[0;34m\u001b[0m\u001b[0;34m\u001b[0m\u001b[0m\n\u001b[1;32m    237\u001b[0m             \u001b[0mflags\u001b[0m \u001b[0;34m|=\u001b[0m \u001b[0mh5f\u001b[0m\u001b[0;34m.\u001b[0m\u001b[0mACC_SWMR_READ\u001b[0m\u001b[0;34m\u001b[0m\u001b[0;34m\u001b[0m\u001b[0m\n\u001b[0;32m--> 238\u001b[0;31m         \u001b[0mfid\u001b[0m \u001b[0;34m=\u001b[0m \u001b[0mh5f\u001b[0m\u001b[0;34m.\u001b[0m\u001b[0mopen\u001b[0m\u001b[0;34m(\u001b[0m\u001b[0mname\u001b[0m\u001b[0;34m,\u001b[0m \u001b[0mflags\u001b[0m\u001b[0;34m,\u001b[0m \u001b[0mfapl\u001b[0m\u001b[0;34m=\u001b[0m\u001b[0mfapl\u001b[0m\u001b[0;34m)\u001b[0m\u001b[0;34m\u001b[0m\u001b[0;34m\u001b[0m\u001b[0m\n\u001b[0m\u001b[1;32m    239\u001b[0m     \u001b[0;32melif\u001b[0m \u001b[0mmode\u001b[0m \u001b[0;34m==\u001b[0m \u001b[0;34m'r+'\u001b[0m\u001b[0;34m:\u001b[0m\u001b[0;34m\u001b[0m\u001b[0;34m\u001b[0m\u001b[0m\n\u001b[1;32m    240\u001b[0m         \u001b[0mfid\u001b[0m \u001b[0;34m=\u001b[0m \u001b[0mh5f\u001b[0m\u001b[0;34m.\u001b[0m\u001b[0mopen\u001b[0m\u001b[0;34m(\u001b[0m\u001b[0mname\u001b[0m\u001b[0;34m,\u001b[0m \u001b[0mh5f\u001b[0m\u001b[0;34m.\u001b[0m\u001b[0mACC_RDWR\u001b[0m\u001b[0;34m,\u001b[0m \u001b[0mfapl\u001b[0m\u001b[0;34m=\u001b[0m\u001b[0mfapl\u001b[0m\u001b[0;34m)\u001b[0m\u001b[0;34m\u001b[0m\u001b[0;34m\u001b[0m\u001b[0m\n",
            "\u001b[0;32mh5py/_objects.pyx\u001b[0m in \u001b[0;36mh5py._objects.with_phil.wrapper\u001b[0;34m()\u001b[0m\n",
            "\u001b[0;32mh5py/_objects.pyx\u001b[0m in \u001b[0;36mh5py._objects.with_phil.wrapper\u001b[0;34m()\u001b[0m\n",
            "\u001b[0;32mh5py/h5f.pyx\u001b[0m in \u001b[0;36mh5py.h5f.open\u001b[0;34m()\u001b[0m\n",
            "\u001b[0;31mFileNotFoundError\u001b[0m: [Errno 2] Unable to synchronously open file (unable to open file: name = 'isl_model.h5', errno = 2, error message = 'No such file or directory', flags = 0, o_flags = 0)"
          ]
        }
      ],
      "source": [
        "from google.colab import drive\n",
        "drive.mount('/content/drive')\n",
        "\n",
        "import os\n",
        "\n",
        "# Path to your dataset\n",
        "base_dir = \"/content/drive/MyDrive/ISL_dataset\"\n",
        "# List first few files/folders\n",
        "print(os.listdir(base_dir))\n",
        "\n",
        "\n",
        "import os\n",
        "import shutil\n",
        "\n",
        "# Path where your videos are currently stored\n",
        "src_dir = \"/content/drive/MyDrive/ISL_dataset\"   # change if needed\n",
        "# Path where reorganized dataset will be created\n",
        "dst_dir = \"/content/drive/MyDrive/dataset_sorted\"\n",
        "\n",
        "os.makedirs(dst_dir, exist_ok=True)\n",
        "\n",
        "# List all .MOV files in the source folder\n",
        "videos = [f for f in os.listdir(src_dir) if f.lower().endswith(\".mov\")]\n",
        "\n",
        "print(f\"Found {len(videos)} videos.\")\n",
        "\n",
        "# Reorganize into gesture_1, gesture_2, ...\n",
        "for idx, vid in enumerate(sorted(videos), start=1):\n",
        "    gesture_folder = os.path.join(dst_dir, f\"gesture_{idx}\")\n",
        "    os.makedirs(gesture_folder, exist_ok=True)\n",
        "\n",
        "    src_path = os.path.join(src_dir, vid)\n",
        "    dst_path = os.path.join(gesture_folder, vid)\n",
        "\n",
        "    shutil.copy(src_path, dst_path)  # use copy so original files stay safe\n",
        "    print(f\"✅ Moved {vid} -> {gesture_folder}\")\n",
        "\n",
        "print(\"\\n🎉 Dataset reorganized successfully!\")\n",
        "print(f\"Output path: {dst_dir}\")\n",
        "\n",
        "\n",
        "import cv2\n",
        "import os\n",
        "import numpy as np\n",
        "from tensorflow.keras.models import load_model\n",
        "from tensorflow.keras.utils import to_categorical\n",
        "from tensorflow.keras.models import Sequential\n",
        "from tensorflow.keras.layers import TimeDistributed, Conv2D, MaxPooling2D, Flatten, LSTM, Dense, Dropout\n",
        "\n",
        "# -------------------------------\n",
        "# SETTINGS\n",
        "# -------------------------------\n",
        "IMG_SIZE = 64        # Resize frames\n",
        "MAX_FRAMES = 30      # Frames per video\n",
        "DATASET_PATH = \"/content/drive/MyDrive/dataset_sorted\"  # 👈 reorganized dataset\n",
        "\n",
        "# -------------------------------\n",
        "# VIDEO TO ARRAY FUNCTION\n",
        "# -------------------------------\n",
        "def video_to_array(path, max_frames=MAX_FRAMES):\n",
        "    cap = cv2.VideoCapture(path)\n",
        "    frames = []\n",
        "    count = 0\n",
        "    while cap.isOpened() and count < max_frames:\n",
        "        ret, frame = cap.read()\n",
        "        if not ret:\n",
        "            break\n",
        "        frame = cv2.resize(frame, (IMG_SIZE, IMG_SIZE))\n",
        "        frame = frame / 255.0   # normalize\n",
        "        frames.append(frame)\n",
        "        count += 1\n",
        "    cap.release()\n",
        "    # Pad with zeros if shorter\n",
        "    while len(frames) < max_frames:\n",
        "        frames.append(np.zeros((IMG_SIZE, IMG_SIZE, 3)))\n",
        "    return np.array(frames)\n",
        "\n",
        "# -------------------------------\n",
        "# LOAD DATASET\n",
        "# -------------------------------\n",
        "X, y, labels = [], [], []\n",
        "classes = sorted(os.listdir(DATASET_PATH))\n",
        "\n",
        "for idx, gesture in enumerate(classes):\n",
        "    gesture_path = os.path.join(DATASET_PATH, gesture)\n",
        "    if not os.path.isdir(gesture_path):\n",
        "        continue\n",
        "    for vid in os.listdir(gesture_path):\n",
        "        vid_path = os.path.join(gesture_path, vid)\n",
        "        frames = video_to_array(vid_path)\n",
        "        X.append(frames)\n",
        "        y.append(idx)\n",
        "    labels.append(gesture)\n",
        "\n",
        "X = np.array(X)\n",
        "y = to_categorical(y, num_classes=len(classes))\n",
        "\n",
        "print(\"✅ Dataset ready\")\n",
        "print(\"X shape:\", X.shape)   # (videos, frames, 64, 64, 3)\n",
        "print(\"y shape:\", y.shape)\n",
        "print(\"Labels:\", labels)\n",
        "\n",
        "# -------------------------------\n",
        "# BUILD MODEL (CNN + LSTM)\n",
        "# -------------------------------\n",
        "model = Sequential([\n",
        "    TimeDistributed(Conv2D(32, (3,3), activation='relu'), input_shape=(MAX_FRAMES, IMG_SIZE, IMG_SIZE, 3)),\n",
        "    TimeDistributed(MaxPooling2D((2,2))),\n",
        "    TimeDistributed(Flatten()),\n",
        "    LSTM(64),\n",
        "    Dropout(0.5),\n",
        "    Dense(len(classes), activation='softmax')\n",
        "])\n",
        "\n",
        "model.compile(optimizer='adam', loss='categorical_crossentropy', metrics=['accuracy'])\n",
        "model.summary()\n",
        "\n",
        "# -------------------------------\n",
        "# TRAIN MODEL\n",
        "# -------------------------------\n",
        "history = model.fit(X, y, epochs=10, batch_size=4, validation_split=0.2)\n",
        "\n",
        "# -------------------------------\n",
        "# SAVE MODEL\n",
        "# -------------------------------\n",
        "# -------------------------------\n",
        "# SAVE MODEL (both formats)\n",
        "# -------------------------------\n",
        "save_path = \"/content/drive/MyDrive\"\n",
        "\n",
        "# Legacy HDF5 format (for compatibility)\n",
        "model.save(f\"{save_path}/isl_model.h5\")\n",
        "print(\"✅ Model saved as isl_model.h5\")\n",
        "\n",
        "# New Keras format (recommended going forward)\n",
        "model.save(f\"{save_path}/isl_model.keras\")\n",
        "print(\"✅ Model also saved as isl_model.keras\")\n",
        "\n",
        "\n",
        "\n",
        "\n",
        "def predict_gesture(video_path, model, labels):\n",
        "    frames = video_to_array(video_path)\n",
        "    frames = np.expand_dims(frames, axis=0)  # add batch dimension\n",
        "    prediction = model.predict(frames)\n",
        "    class_id = np.argmax(prediction)\n",
        "    return labels[class_id], prediction[0][class_id]\n",
        "\n",
        "# -------------------------------\n",
        "# LOAD & TEST\n",
        "# -------------------------------\n",
        "# Load model back (for safety)\n",
        "model = load_model(\"isl_model.h5\")\n",
        "\n",
        "# 👇 change this path to any test video from your dataset or new video\n",
        "test_video = \"/content/drive/MyDrive/ISL_dataset/1 hello you how .MOV\"\n",
        "\n",
        "gesture, confidence = predict_gesture(test_video, model, labels)\n",
        "print(f\"🖐 Predicted Gesture: {gesture} (Confidence: {confidence:.2f})\")"
      ]
    },
    {
      "cell_type": "code",
      "source": [
        "!ls -lh\n",
        "model.save(\"/content/drive/MyDrive/isl_model.h5\")\n",
        "\n",
        "from tensorflow.keras.models import load_model\n",
        "\n",
        "# Load the HDF5 model\n",
        "model = load_model(\"/content/drive/MyDrive/isl_model.h5\")\n",
        "\n",
        "# OR load the new Keras format\n",
        "# model = load_model(\"/content/drive/MyDrive/isl_model.keras\")\n",
        "\n",
        "print(\"✅ Model loaded successfully!\")\n",
        "\n"
      ],
      "metadata": {
        "colab": {
          "base_uri": "https://localhost:8080/"
        },
        "id": "OXzaFFhaiTWj",
        "outputId": "3e0583ee-52cd-4b44-ff32-f3b0013cc752"
      },
      "execution_count": 18,
      "outputs": [
        {
          "output_type": "stream",
          "name": "stdout",
          "text": [
            "total 8.0K\n",
            "drwx------ 5 root root 4.0K Aug 28 13:42 drive\n",
            "drwxr-xr-x 1 root root 4.0K Aug 26 19:08 sample_data\n"
          ]
        },
        {
          "output_type": "stream",
          "name": "stderr",
          "text": [
            "WARNING:absl:You are saving your model as an HDF5 file via `model.save()` or `keras.saving.save_model(model)`. This file format is considered legacy. We recommend using instead the native Keras format, e.g. `model.save('my_model.keras')` or `keras.saving.save_model(model, 'my_model.keras')`. \n",
            "WARNING:absl:Compiled the loaded model, but the compiled metrics have yet to be built. `model.compile_metrics` will be empty until you train or evaluate the model.\n"
          ]
        },
        {
          "output_type": "stream",
          "name": "stdout",
          "text": [
            "✅ Model loaded successfully!\n"
          ]
        }
      ]
    }
  ]
}